{
 "cells": [
  {
   "cell_type": "markdown",
   "metadata": {},
   "source": [
    "# **What does fillna() do in pandas?**"
   ]
  },
  {
   "cell_type": "markdown",
   "metadata": {},
   "source": [
    "The `fillna()` method in pandas replaces missing values `(NaN)` in a DataFrame or Series with a specified value, method, or calculated value."
   ]
  },
  {
   "cell_type": "markdown",
   "metadata": {},
   "source": [
    "___"
   ]
  },
  {
   "cell_type": "markdown",
   "metadata": {},
   "source": [
    "## **How It Works:**\n",
    "- You can replace missing values with a constant, such as 0 or \"Unknown\".\n",
    "- Use `method='ffill'` (forward fill) or `method='bfill'` (backward fill) to propagate non-null values.\n",
    "- Replace missing values conditionally based on the column type."
   ]
  },
  {
   "cell_type": "markdown",
   "metadata": {},
   "source": [
    "___"
   ]
  },
  {
   "cell_type": "markdown",
   "metadata": {},
   "source": [
    "## Example: Basic Usage of fillna()"
   ]
  },
  {
   "cell_type": "code",
   "execution_count": 1,
   "metadata": {},
   "outputs": [
    {
     "name": "stdout",
     "output_type": "stream",
     "text": [
      "Original DataFrame:\n",
      "     Name   Age  Score\n",
      "0  Alpha  24.0   85.0\n",
      "1   Beta   NaN   90.0\n",
      "2  Gamma  30.0    NaN\n",
      "3    NaN  22.0   88.0\n",
      "\n",
      "DataFrame after handling missing data:\n",
      "       Name        Age  Score\n",
      "0    Alpha  24.000000   85.0\n",
      "1     Beta  25.333333   90.0\n",
      "2    Gamma  30.000000   50.0\n",
      "3  Unknown  22.000000   88.0\n"
     ]
    }
   ],
   "source": [
    "import pandas as pd\n",
    "import numpy as np\n",
    "\n",
    "# Sample DataFrame with NaN values\n",
    "data = {\n",
    "    'Name': ['Alpha', 'Beta', 'Gamma', np.nan],\n",
    "    'Age': [24, np.nan, 30, 22],\n",
    "    'Score': [85, 90, np.nan, 88]\n",
    "}\n",
    "\n",
    "df = pd.DataFrame(data)\n",
    "print(\"Original DataFrame:\\n\", df)\n",
    "\n",
    "# Replace NaN in 'Age' with the average value\n",
    "df['Age'] = df['Age'].fillna(df['Age'].mean())\n",
    "# Replace NaN in 'Name' with \"Unknown\"\n",
    "df['Name'] = df['Name'].fillna(\"Unknown\")\n",
    "# Replace NaN in 'Score' with a fixed value (e.g., 50)\n",
    "df['Score'] = df['Score'].fillna(50)\n",
    "\n",
    "print(\"\\nDataFrame after handling missing data:\\n\", df)"
   ]
  },
  {
   "cell_type": "markdown",
   "metadata": {},
   "source": [
    "___"
   ]
  },
  {
   "cell_type": "markdown",
   "metadata": {},
   "source": [
    "## Backend Logic to Replace NaN"
   ]
  },
  {
   "cell_type": "code",
   "execution_count": 2,
   "metadata": {},
   "outputs": [
    {
     "name": "stdout",
     "output_type": "stream",
     "text": [
      "Original DataFrame:\n",
      "     Name   Age  Score\n",
      "0  Alpha  24.0   85.0\n",
      "1   Beta   NaN   90.0\n",
      "2  Gamma  30.0    NaN\n",
      "3    NaN  22.0   88.0\n",
      "\n",
      "DataFrame after custom NaN replacement:\n",
      "     Name   Age  Score\n",
      "0  Alpha  24.0   85.0\n",
      "1   Beta  28.0   90.0\n",
      "2  Gamma  30.0   75.0\n",
      "3    YNK  22.0   88.0\n"
     ]
    }
   ],
   "source": [
    "data = {\n",
    "    'Name': ['Alpha', 'Beta', 'Gamma', np.nan],\n",
    "    'Age': [24, np.nan, 30, 22],\n",
    "    'Score': [85, 90, np.nan, 88]\n",
    "}\n",
    "\n",
    "df = pd.DataFrame(data)\n",
    "print(\"Original DataFrame:\\n\", df)\n",
    "\n",
    "# Backend logic for replacing NaN\n",
    "def replace_nan(df, column_name, value):\n",
    "    # Iterate through the column and replace NaN\n",
    "    for index, val in enumerate(df[column_name]):\n",
    "        if pd.isna(val):\n",
    "            df.at[index, column_name] = value\n",
    "    return df\n",
    "\n",
    "df = replace_nan(df, 'Name', 'YNK') # Replace NaN in 'Name ' with YNK\n",
    "df = replace_nan(df, 'Age', 28) # Replace NaN in 'Score' with 28\n",
    "df = replace_nan(df, 'Score', 75)  # Replace NaN in 'Score' with 75\n",
    "print(\"\\nDataFrame after custom NaN replacement:\\n\", df)\n"
   ]
  },
  {
   "cell_type": "markdown",
   "metadata": {},
   "source": [
    "### Explanation of the Code:\n",
    "1.  Defining the Function:\n",
    "    - replace_nan() is a custom function that takes:\n",
    "        - df: the DataFrame to process\n",
    "        - column_name: the column to check for NaN values\n",
    "        - value: the value to replace NaN with\n",
    "\n",
    "    - It iterates through the specified column and replaces any NaN values with the given value.\n",
    "\n",
    "2. Iteration and Enumeration:\n",
    "    - enumerate(df[column_name]) creates pairs of (index, value) for every row in the specified column.\n",
    "    - index: the row index\n",
    "    - val: the value in that row\n",
    "\n",
    "3. Checking for NaN Values:\n",
    "    - pd.isna(val) checks if the current value is NaN.\n",
    "    - If true, the value needs to be replaced.\n",
    "\n",
    "4. Replacing NaN Values:\n",
    "    - df.at[index, column_name] directly accesses the cell at the given row and column.\n",
    "    - The cell is updated with the specified replacement value.\n",
    "\n",
    "5. Call the Function :)"
   ]
  },
  {
   "cell_type": "markdown",
   "metadata": {},
   "source": [
    "___"
   ]
  },
  {
   "cell_type": "markdown",
   "metadata": {},
   "source": [
    "## How It Works Internally:\n",
    "- `fillna()` uses vectorized operations for performance, directly modifying the DataFrame without explicit row-by-row operations.\n",
    "- `pd.isna()` identifies missing values `(NaN or None)`."
   ]
  },
  {
   "cell_type": "markdown",
   "metadata": {},
   "source": [
    "___"
   ]
  },
  {
   "cell_type": "markdown",
   "metadata": {},
   "source": [
    "# THE END @:-)\n",
    "___\n",
    "___ \n"
   ]
  }
 ],
 "metadata": {
  "kernelspec": {
   "display_name": "Python 3",
   "language": "python",
   "name": "python3"
  },
  "language_info": {
   "codemirror_mode": {
    "name": "ipython",
    "version": 3
   },
   "file_extension": ".py",
   "mimetype": "text/x-python",
   "name": "python",
   "nbconvert_exporter": "python",
   "pygments_lexer": "ipython3",
   "version": "3.13.0"
  }
 },
 "nbformat": 4,
 "nbformat_minor": 2
}
